{
  "cells": [
    {
      "cell_type": "markdown",
      "metadata": {
        "id": "tiVEnXuyF4wf"
      },
      "source": [
        "# Team ID: 13546-1659520952\n",
        "# Model building for fruit disease"
      ]
    },
    {
      "cell_type": "code",
      "execution_count": 2,
      "metadata": {
        "id": "hdq3jV9Klc8w"
      },
      "outputs": [],
      "source": [
        "from keras.preprocessing.image import ImageDataGenerator\n",
        "train_datagen=ImageDataGenerator(rescale=1./255,shear_range=0.2,zoom_range=0.2,horizontal_flip=True)\n",
        "test_datagen=ImageDataGenerator(rescale=1)"
      ]
    },
    {
      "cell_type": "code",
      "execution_count": 3,
      "metadata": {
        "colab": {
          "base_uri": "https://localhost:8080/"
        },
        "id": "79L0kipdlp8g",
        "outputId": "2bde1e7f-3996-424e-8600-458ab24d9562"
      },
      "outputs": [
        {
          "name": "stdout",
          "output_type": "stream",
          "text": [
            "Found 1686 images belonging to 6 classes.\n",
            "Found 5384 images belonging to 6 classes.\n"
          ]
        }
      ],
      "source": [
        "x_train=train_datagen.flow_from_directory(r'../Dataset/Dataset_Plant_Disease/fruit-dataset/fruit-dataset/test',target_size=(128,128),batch_size=2,class_mode='categorical')\n",
        "x_test=test_datagen.flow_from_directory(r'../Dataset/Dataset_Plant_Disease/fruit-dataset/fruit-dataset/train',target_size=(128,128),batch_size=2,class_mode='categorical')"
      ]
    },
    {
      "cell_type": "code",
      "execution_count": 4,
      "metadata": {
        "id": "3bRM2jaemGen"
      },
      "outputs": [],
      "source": [
        "from keras.models import Sequential\n",
        "from keras.layers import Dense\n",
        "from keras.layers import Convolution2D\n",
        "from keras.layers import MaxPooling2D\n",
        "from keras.layers import Flatten"
      ]
    },
    {
      "cell_type": "code",
      "execution_count": 5,
      "metadata": {
        "id": "Rt2LLaAmqJym"
      },
      "outputs": [
        {
          "name": "stderr",
          "output_type": "stream",
          "text": [
            "2022-11-18 18:57:08.168168: W tensorflow/compiler/xla/stream_executor/platform/default/dso_loader.cc:64] Could not load dynamic library 'libcuda.so.1'; dlerror: libcuda.so.1: cannot open shared object file: No such file or directory\n",
            "2022-11-18 18:57:08.194005: W tensorflow/compiler/xla/stream_executor/cuda/cuda_driver.cc:265] failed call to cuInit: UNKNOWN ERROR (303)\n",
            "2022-11-18 18:57:08.198803: I tensorflow/compiler/xla/stream_executor/cuda/cuda_diagnostics.cc:156] kernel driver does not appear to be running on this host (linux): /proc/driver/nvidia/version does not exist\n",
            "2022-11-18 18:57:08.767718: I tensorflow/core/platform/cpu_feature_guard.cc:193] This TensorFlow binary is optimized with oneAPI Deep Neural Network Library (oneDNN) to use the following CPU instructions in performance-critical operations:  AVX2 FMA\n",
            "To enable them in other operations, rebuild TensorFlow with the appropriate compiler flags.\n"
          ]
        }
      ],
      "source": [
        "model=Sequential()"
      ]
    },
    {
      "cell_type": "code",
      "execution_count": 6,
      "metadata": {
        "id": "U-_oL0VWqj5-"
      },
      "outputs": [],
      "source": [
        "model.add(Convolution2D(32,(3,3),input_shape=(128,128,3),activation='relu'))"
      ]
    },
    {
      "cell_type": "code",
      "execution_count": 7,
      "metadata": {
        "id": "_6-ayjzOqqzA"
      },
      "outputs": [],
      "source": [
        "model.add(MaxPooling2D(pool_size=(2,2)))"
      ]
    },
    {
      "cell_type": "code",
      "execution_count": 8,
      "metadata": {
        "id": "xvsBvBRqq6Tt"
      },
      "outputs": [],
      "source": [
        "model.add(Flatten())"
      ]
    },
    {
      "cell_type": "code",
      "execution_count": 9,
      "metadata": {
        "id": "V8QwFkPPrAo2"
      },
      "outputs": [],
      "source": [
        "model.add(Dense(units=40,kernel_initializer='uniform',activation='relu'))"
      ]
    },
    {
      "cell_type": "code",
      "execution_count": 10,
      "metadata": {
        "id": "U59JTUjmrCI-"
      },
      "outputs": [],
      "source": [
        "model.add(Dense(units=20,kernel_initializer='random_uniform',activation='relu'))"
      ]
    },
    {
      "cell_type": "code",
      "execution_count": 11,
      "metadata": {
        "id": "eqldrslFrFgG"
      },
      "outputs": [],
      "source": [
        "model.add(Dense(units=6,kernel_initializer='random_uniform',activation='softmax'))"
      ]
    },
    {
      "cell_type": "code",
      "execution_count": 12,
      "metadata": {
        "id": "kfcdB5R6rTit"
      },
      "outputs": [],
      "source": [
        "model.compile(loss='categorical_crossentropy',optimizer=\"adam\",metrics=[\"accuracy\"])"
      ]
    },
    {
      "cell_type": "code",
      "execution_count": 13,
      "metadata": {
        "colab": {
          "base_uri": "https://localhost:8080/"
        },
        "id": "G2GUrtOrFjdZ",
        "outputId": "75ba7210-2d4f-491b-a81c-0c28c269ed25"
      },
      "outputs": [
        {
          "name": "stdout",
          "output_type": "stream",
          "text": [
            "Epoch 1/20\n",
            "89/89 [==============================] - 19s 162ms/step - loss: 1.7004 - accuracy: 0.2528 - val_loss: 50.8043 - val_accuracy: 0.2407\n",
            "Epoch 2/20\n",
            "89/89 [==============================] - 13s 146ms/step - loss: 1.6246 - accuracy: 0.3483 - val_loss: 57.8059 - val_accuracy: 0.5000\n",
            "Epoch 3/20\n",
            "89/89 [==============================] - 12s 139ms/step - loss: 1.2598 - accuracy: 0.5337 - val_loss: 326.8058 - val_accuracy: 0.5926\n",
            "Epoch 4/20\n",
            "89/89 [==============================] - 12s 134ms/step - loss: 1.2456 - accuracy: 0.5337 - val_loss: 168.3012 - val_accuracy: 0.6111\n",
            "Epoch 5/20\n",
            "89/89 [==============================] - 19s 210ms/step - loss: 1.1026 - accuracy: 0.5843 - val_loss: 118.3301 - val_accuracy: 0.6111\n",
            "Epoch 6/20\n",
            "89/89 [==============================] - 13s 136ms/step - loss: 0.9448 - accuracy: 0.6461 - val_loss: 315.4379 - val_accuracy: 0.4444\n",
            "Epoch 7/20\n",
            "89/89 [==============================] - 10s 113ms/step - loss: 0.9103 - accuracy: 0.6461 - val_loss: 67.4828 - val_accuracy: 0.7222\n",
            "Epoch 8/20\n",
            "89/89 [==============================] - 10s 117ms/step - loss: 0.7694 - accuracy: 0.6854 - val_loss: 128.9492 - val_accuracy: 0.7037\n",
            "Epoch 9/20\n",
            "89/89 [==============================] - 22s 248ms/step - loss: 0.6491 - accuracy: 0.7472 - val_loss: 137.5089 - val_accuracy: 0.6667\n",
            "Epoch 10/20\n",
            "89/89 [==============================] - 15s 164ms/step - loss: 0.6356 - accuracy: 0.7640 - val_loss: 122.4872 - val_accuracy: 0.6111\n",
            "Epoch 11/20\n",
            "89/89 [==============================] - 13s 145ms/step - loss: 0.7576 - accuracy: 0.7191 - val_loss: 105.2234 - val_accuracy: 0.6481\n",
            "Epoch 12/20\n",
            "89/89 [==============================] - 11s 120ms/step - loss: 0.7117 - accuracy: 0.6966 - val_loss: 82.9818 - val_accuracy: 0.7407\n",
            "Epoch 13/20\n",
            "89/89 [==============================] - 12s 129ms/step - loss: 0.6023 - accuracy: 0.7865 - val_loss: 153.5978 - val_accuracy: 0.6667\n",
            "Epoch 14/20\n",
            "89/89 [==============================] - 12s 129ms/step - loss: 0.4724 - accuracy: 0.8258 - val_loss: 87.5710 - val_accuracy: 0.7593\n",
            "Epoch 15/20\n",
            "89/89 [==============================] - 16s 181ms/step - loss: 0.6304 - accuracy: 0.7753 - val_loss: 78.6846 - val_accuracy: 0.7222\n",
            "Epoch 16/20\n",
            "89/89 [==============================] - 15s 167ms/step - loss: 0.5796 - accuracy: 0.7865 - val_loss: 95.6233 - val_accuracy: 0.7963\n",
            "Epoch 17/20\n",
            "89/89 [==============================] - 18s 203ms/step - loss: 0.4360 - accuracy: 0.8539 - val_loss: 163.7708 - val_accuracy: 0.7407\n",
            "Epoch 18/20\n",
            "89/89 [==============================] - 34s 380ms/step - loss: 0.4991 - accuracy: 0.8258 - val_loss: 64.8546 - val_accuracy: 0.7778\n",
            "Epoch 19/20\n",
            "89/89 [==============================] - 85s 958ms/step - loss: 0.5082 - accuracy: 0.8427 - val_loss: 145.0427 - val_accuracy: 0.7037\n",
            "Epoch 20/20\n",
            "89/89 [==============================] - 28s 316ms/step - loss: 0.3978 - accuracy: 0.8539 - val_loss: 165.5377 - val_accuracy: 0.6481\n"
          ]
        },
        {
          "data": {
            "text/plain": [
              "<keras.callbacks.History at 0x7efd33197d90>"
            ]
          },
          "execution_count": 13,
          "metadata": {},
          "output_type": "execute_result"
        }
      ],
      "source": [
        "model.fit(x_train,steps_per_epoch=89,epochs=20,validation_data=x_test,validation_steps=27)"
      ]
    },
    {
      "cell_type": "markdown",
      "metadata": {
        "id": "tK8OvnKwGhQa"
      },
      "source": [
        "## Save the Model"
      ]
    },
    {
      "cell_type": "code",
      "execution_count": 14,
      "metadata": {
        "id": "xt3SNQqoMZ-O"
      },
      "outputs": [],
      "source": [
        "model.save('fruit.h5')"
      ]
    },
    {
      "cell_type": "code",
      "execution_count": 15,
      "metadata": {
        "colab": {
          "base_uri": "https://localhost:8080/"
        },
        "id": "V1GrSJkaMt1D",
        "outputId": "7f8127a0-11f6-4927-b9b0-8b39faae2e0b"
      },
      "outputs": [
        {
          "name": "stdout",
          "output_type": "stream",
          "text": [
            "Model: \"sequential\"\n",
            "_________________________________________________________________\n",
            " Layer (type)                Output Shape              Param #   \n",
            "=================================================================\n",
            " conv2d (Conv2D)             (None, 126, 126, 32)      896       \n",
            "                                                                 \n",
            " max_pooling2d (MaxPooling2D  (None, 63, 63, 32)       0         \n",
            " )                                                               \n",
            "                                                                 \n",
            " flatten (Flatten)           (None, 127008)            0         \n",
            "                                                                 \n",
            " dense (Dense)               (None, 40)                5080360   \n",
            "                                                                 \n",
            " dense_1 (Dense)             (None, 20)                820       \n",
            "                                                                 \n",
            " dense_2 (Dense)             (None, 6)                 126       \n",
            "                                                                 \n",
            "=================================================================\n",
            "Total params: 5,082,202\n",
            "Trainable params: 5,082,202\n",
            "Non-trainable params: 0\n",
            "_________________________________________________________________\n"
          ]
        }
      ],
      "source": [
        "model.summary()"
      ]
    },
    {
      "cell_type": "code",
      "execution_count": null,
      "metadata": {},
      "outputs": [],
      "source": []
    }
  ],
  "metadata": {
    "colab": {
      "provenance": []
    },
    "kernelspec": {
      "display_name": "Python 3.8.10 64-bit",
      "language": "python",
      "name": "python3"
    },
    "language_info": {
      "codemirror_mode": {
        "name": "ipython",
        "version": 3
      },
      "file_extension": ".py",
      "mimetype": "text/x-python",
      "name": "python",
      "nbconvert_exporter": "python",
      "pygments_lexer": "ipython3",
      "version": "3.8.10"
    },
    "vscode": {
      "interpreter": {
        "hash": "916dbcbb3f70747c44a77c7bcd40155683ae19c65e1c03b4aa3499c5328201f1"
      }
    }
  },
  "nbformat": 4,
  "nbformat_minor": 0
}
