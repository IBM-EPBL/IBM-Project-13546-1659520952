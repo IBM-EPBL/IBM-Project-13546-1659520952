{
  "cells": [
    {
      "cell_type": "markdown",
      "metadata": {
        "id": "tiVEnXuyF4wf"
      },
      "source": [
        "# Team ID: 13546-1659520952\n",
        "# Model building for fruit disease"
      ]
    },
    {
      "cell_type": "code",
      "execution_count": 1,
      "metadata": {
        "id": "hdq3jV9Klc8w"
      },
      "outputs": [
        {
          "name": "stderr",
          "output_type": "stream",
          "text": [
            "2022-11-19 14:06:04.150445: I tensorflow/core/platform/cpu_feature_guard.cc:193] This TensorFlow binary is optimized with oneAPI Deep Neural Network Library (oneDNN) to use the following CPU instructions in performance-critical operations:  AVX2 FMA\n",
            "To enable them in other operations, rebuild TensorFlow with the appropriate compiler flags.\n",
            "2022-11-19 14:06:04.351535: W tensorflow/compiler/xla/stream_executor/platform/default/dso_loader.cc:64] Could not load dynamic library 'libcudart.so.11.0'; dlerror: libcudart.so.11.0: cannot open shared object file: No such file or directory\n",
            "2022-11-19 14:06:04.351560: I tensorflow/compiler/xla/stream_executor/cuda/cudart_stub.cc:29] Ignore above cudart dlerror if you do not have a GPU set up on your machine.\n",
            "2022-11-19 14:06:05.886232: W tensorflow/compiler/xla/stream_executor/platform/default/dso_loader.cc:64] Could not load dynamic library 'libnvinfer.so.7'; dlerror: libnvinfer.so.7: cannot open shared object file: No such file or directory\n",
            "2022-11-19 14:06:05.886396: W tensorflow/compiler/xla/stream_executor/platform/default/dso_loader.cc:64] Could not load dynamic library 'libnvinfer_plugin.so.7'; dlerror: libnvinfer_plugin.so.7: cannot open shared object file: No such file or directory\n",
            "2022-11-19 14:06:05.886416: W tensorflow/compiler/tf2tensorrt/utils/py_utils.cc:38] TF-TRT Warning: Cannot dlopen some TensorRT libraries. If you would like to use Nvidia GPU with TensorRT, please make sure the missing libraries mentioned above are installed properly.\n"
          ]
        }
      ],
      "source": [
        "from keras.preprocessing.image import ImageDataGenerator\n",
        "train_datagen=ImageDataGenerator(rescale=1./255,shear_range=0.2,zoom_range=0.2,horizontal_flip=True)\n",
        "test_datagen=ImageDataGenerator(rescale=1)"
      ]
    },
    {
      "cell_type": "code",
      "execution_count": 7,
      "metadata": {
        "colab": {
          "base_uri": "https://localhost:8080/"
        },
        "id": "79L0kipdlp8g",
        "outputId": "2bde1e7f-3996-424e-8600-458ab24d9562"
      },
      "outputs": [
        {
          "name": "stdout",
          "output_type": "stream",
          "text": [
            "Found 1686 images belonging to 6 classes.\n",
            "Found 5384 images belonging to 6 classes.\n"
          ]
        }
      ],
      "source": [
        "x_train=train_datagen.flow_from_directory(r'../Dataset/Dataset_Plant_Disease/fruit-dataset/fruit-dataset/test',target_size=(128,128),batch_size=2,class_mode='categorical')\n",
        "x_test=test_datagen.flow_from_directory(r'../Dataset/Dataset_Plant_Disease/fruit-dataset/fruit-dataset/train',target_size=(128,128),batch_size=2,class_mode='categorical')"
      ]
    },
    {
      "cell_type": "code",
      "execution_count": null,
      "metadata": {},
      "outputs": [],
      "source": []
    },
    {
      "cell_type": "code",
      "execution_count": 9,
      "metadata": {
        "id": "3bRM2jaemGen"
      },
      "outputs": [],
      "source": [
        "from keras.models import Sequential\n",
        "from keras.layers import Dense\n",
        "from keras.layers import Convolution2D\n",
        "from keras.layers import MaxPooling2D\n",
        "from keras.layers import Flatten"
      ]
    },
    {
      "cell_type": "code",
      "execution_count": 10,
      "metadata": {
        "id": "Rt2LLaAmqJym"
      },
      "outputs": [
        {
          "name": "stderr",
          "output_type": "stream",
          "text": [
            "2022-11-19 14:42:48.923428: W tensorflow/compiler/xla/stream_executor/platform/default/dso_loader.cc:64] Could not load dynamic library 'libcuda.so.1'; dlerror: libcuda.so.1: cannot open shared object file: No such file or directory\n",
            "2022-11-19 14:42:48.936122: W tensorflow/compiler/xla/stream_executor/cuda/cuda_driver.cc:265] failed call to cuInit: UNKNOWN ERROR (303)\n",
            "2022-11-19 14:42:48.937335: I tensorflow/compiler/xla/stream_executor/cuda/cuda_diagnostics.cc:156] kernel driver does not appear to be running on this host (linux): /proc/driver/nvidia/version does not exist\n",
            "2022-11-19 14:42:49.075762: I tensorflow/core/platform/cpu_feature_guard.cc:193] This TensorFlow binary is optimized with oneAPI Deep Neural Network Library (oneDNN) to use the following CPU instructions in performance-critical operations:  AVX2 FMA\n",
            "To enable them in other operations, rebuild TensorFlow with the appropriate compiler flags.\n"
          ]
        }
      ],
      "source": [
        "model=Sequential()"
      ]
    },
    {
      "cell_type": "code",
      "execution_count": 11,
      "metadata": {
        "id": "U-_oL0VWqj5-"
      },
      "outputs": [],
      "source": [
        "model.add(Convolution2D(32,(3,3),input_shape=(128,128,3),activation='relu'))"
      ]
    },
    {
      "cell_type": "code",
      "execution_count": 12,
      "metadata": {
        "id": "_6-ayjzOqqzA"
      },
      "outputs": [],
      "source": [
        "model.add(MaxPooling2D(pool_size=(2,2)))"
      ]
    },
    {
      "cell_type": "code",
      "execution_count": 13,
      "metadata": {
        "id": "xvsBvBRqq6Tt"
      },
      "outputs": [],
      "source": [
        "model.add(Flatten())"
      ]
    },
    {
      "cell_type": "code",
      "execution_count": 14,
      "metadata": {
        "id": "V8QwFkPPrAo2"
      },
      "outputs": [],
      "source": [
        "model.add(Dense(units=40,kernel_initializer='uniform',activation='relu'))"
      ]
    },
    {
      "cell_type": "code",
      "execution_count": 15,
      "metadata": {
        "id": "U59JTUjmrCI-"
      },
      "outputs": [],
      "source": [
        "model.add(Dense(units=20,kernel_initializer='random_uniform',activation='relu'))"
      ]
    },
    {
      "cell_type": "code",
      "execution_count": 16,
      "metadata": {
        "id": "eqldrslFrFgG"
      },
      "outputs": [],
      "source": [
        "model.add(Dense(units=6,kernel_initializer='random_uniform',activation='softmax'))"
      ]
    },
    {
      "cell_type": "code",
      "execution_count": 17,
      "metadata": {
        "id": "kfcdB5R6rTit"
      },
      "outputs": [],
      "source": [
        "model.compile(loss='categorical_crossentropy',optimizer=\"adam\",metrics=[\"accuracy\"])"
      ]
    },
    {
      "cell_type": "code",
      "execution_count": 18,
      "metadata": {
        "colab": {
          "base_uri": "https://localhost:8080/"
        },
        "id": "G2GUrtOrFjdZ",
        "outputId": "75ba7210-2d4f-491b-a81c-0c28c269ed25"
      },
      "outputs": [
        {
          "name": "stdout",
          "output_type": "stream",
          "text": [
            "Epoch 1/20\n",
            "89/89 [==============================] - 14s 117ms/step - loss: 1.7353 - accuracy: 0.2640 - val_loss: 66.1550 - val_accuracy: 0.2778\n",
            "Epoch 2/20\n",
            "89/89 [==============================] - 9s 98ms/step - loss: 1.6243 - accuracy: 0.3202 - val_loss: 76.9215 - val_accuracy: 0.2778\n",
            "Epoch 3/20\n",
            "89/89 [==============================] - 10s 111ms/step - loss: 1.5340 - accuracy: 0.3933 - val_loss: 153.8126 - val_accuracy: 0.4815\n",
            "Epoch 4/20\n",
            "89/89 [==============================] - 9s 100ms/step - loss: 1.4047 - accuracy: 0.4551 - val_loss: 181.2650 - val_accuracy: 0.2778\n",
            "Epoch 5/20\n",
            "89/89 [==============================] - 9s 102ms/step - loss: 1.2641 - accuracy: 0.5225 - val_loss: 83.6410 - val_accuracy: 0.5741\n",
            "Epoch 6/20\n",
            "89/89 [==============================] - 9s 98ms/step - loss: 0.9839 - accuracy: 0.6517 - val_loss: 87.0389 - val_accuracy: 0.5926\n",
            "Epoch 7/20\n",
            "89/89 [==============================] - 10s 113ms/step - loss: 0.9684 - accuracy: 0.5787 - val_loss: 71.4151 - val_accuracy: 0.6667\n",
            "Epoch 8/20\n",
            "89/89 [==============================] - 9s 101ms/step - loss: 0.7983 - accuracy: 0.6461 - val_loss: 67.1936 - val_accuracy: 0.5926\n",
            "Epoch 9/20\n",
            "89/89 [==============================] - 9s 99ms/step - loss: 0.7037 - accuracy: 0.7303 - val_loss: 91.3728 - val_accuracy: 0.7222\n",
            "Epoch 10/20\n",
            "89/89 [==============================] - 9s 102ms/step - loss: 0.6517 - accuracy: 0.6966 - val_loss: 66.7694 - val_accuracy: 0.7778\n",
            "Epoch 11/20\n",
            "89/89 [==============================] - 9s 105ms/step - loss: 0.6682 - accuracy: 0.7360 - val_loss: 76.4401 - val_accuracy: 0.7778\n",
            "Epoch 12/20\n",
            "89/89 [==============================] - 9s 105ms/step - loss: 0.6227 - accuracy: 0.7640 - val_loss: 220.7155 - val_accuracy: 0.5000\n",
            "Epoch 13/20\n",
            "89/89 [==============================] - 13s 150ms/step - loss: 0.6244 - accuracy: 0.7584 - val_loss: 104.7119 - val_accuracy: 0.7037\n",
            "Epoch 14/20\n",
            "89/89 [==============================] - 13s 145ms/step - loss: 0.5947 - accuracy: 0.7865 - val_loss: 127.7131 - val_accuracy: 0.6481\n",
            "Epoch 15/20\n",
            "89/89 [==============================] - 12s 131ms/step - loss: 0.5212 - accuracy: 0.7921 - val_loss: 149.5037 - val_accuracy: 0.6667\n",
            "Epoch 16/20\n",
            "89/89 [==============================] - 9s 106ms/step - loss: 0.5241 - accuracy: 0.8146 - val_loss: 35.3814 - val_accuracy: 0.8148\n",
            "Epoch 17/20\n",
            "89/89 [==============================] - 9s 99ms/step - loss: 0.4052 - accuracy: 0.8483 - val_loss: 261.4551 - val_accuracy: 0.5741\n",
            "Epoch 18/20\n",
            "89/89 [==============================] - 8s 93ms/step - loss: 0.3929 - accuracy: 0.8708 - val_loss: 127.5408 - val_accuracy: 0.6667\n",
            "Epoch 19/20\n",
            "89/89 [==============================] - 8s 90ms/step - loss: 0.5314 - accuracy: 0.8371 - val_loss: 53.4176 - val_accuracy: 0.8148\n",
            "Epoch 20/20\n",
            "89/89 [==============================] - 9s 102ms/step - loss: 0.3747 - accuracy: 0.8596 - val_loss: 98.7718 - val_accuracy: 0.7963\n"
          ]
        },
        {
          "data": {
            "text/plain": [
              "<keras.callbacks.History at 0x7f4736d29a90>"
            ]
          },
          "execution_count": 18,
          "metadata": {},
          "output_type": "execute_result"
        }
      ],
      "source": [
        "model.fit(x_train,steps_per_epoch=89,epochs=20,validation_data=x_test,validation_steps=27)"
      ]
    },
    {
      "cell_type": "markdown",
      "metadata": {
        "id": "tK8OvnKwGhQa"
      },
      "source": [
        "## Save the Model"
      ]
    },
    {
      "cell_type": "code",
      "execution_count": 19,
      "metadata": {
        "id": "xt3SNQqoMZ-O"
      },
      "outputs": [],
      "source": [
        "model.save('fruit.h5')"
      ]
    },
    {
      "cell_type": "code",
      "execution_count": 20,
      "metadata": {
        "colab": {
          "base_uri": "https://localhost:8080/"
        },
        "id": "V1GrSJkaMt1D",
        "outputId": "7f8127a0-11f6-4927-b9b0-8b39faae2e0b"
      },
      "outputs": [
        {
          "name": "stdout",
          "output_type": "stream",
          "text": [
            "Model: \"sequential\"\n",
            "_________________________________________________________________\n",
            " Layer (type)                Output Shape              Param #   \n",
            "=================================================================\n",
            " conv2d (Conv2D)             (None, 126, 126, 32)      896       \n",
            "                                                                 \n",
            " max_pooling2d (MaxPooling2D  (None, 63, 63, 32)       0         \n",
            " )                                                               \n",
            "                                                                 \n",
            " flatten (Flatten)           (None, 127008)            0         \n",
            "                                                                 \n",
            " dense (Dense)               (None, 40)                5080360   \n",
            "                                                                 \n",
            " dense_1 (Dense)             (None, 20)                820       \n",
            "                                                                 \n",
            " dense_2 (Dense)             (None, 6)                 126       \n",
            "                                                                 \n",
            "=================================================================\n",
            "Total params: 5,082,202\n",
            "Trainable params: 5,082,202\n",
            "Non-trainable params: 0\n",
            "_________________________________________________________________\n"
          ]
        }
      ],
      "source": [
        "model.summary()"
      ]
    },
    {
      "cell_type": "code",
      "execution_count": null,
      "metadata": {},
      "outputs": [],
      "source": []
    }
  ],
  "metadata": {
    "colab": {
      "provenance": []
    },
    "kernelspec": {
      "display_name": "Python 3.8.10 64-bit",
      "language": "python",
      "name": "python3"
    },
    "language_info": {
      "codemirror_mode": {
        "name": "ipython",
        "version": 3
      },
      "file_extension": ".py",
      "mimetype": "text/x-python",
      "name": "python",
      "nbconvert_exporter": "python",
      "pygments_lexer": "ipython3",
      "version": "3.8.10"
    },
    "vscode": {
      "interpreter": {
        "hash": "916dbcbb3f70747c44a77c7bcd40155683ae19c65e1c03b4aa3499c5328201f1"
      }
    }
  },
  "nbformat": 4,
  "nbformat_minor": 0
}
