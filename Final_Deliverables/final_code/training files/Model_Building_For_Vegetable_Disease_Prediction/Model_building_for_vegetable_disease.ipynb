{
  "cells": [
    {
      "cell_type": "markdown",
      "metadata": {
        "id": "7oUEisARHaR8"
      },
      "source": [
        "# Team ID : 13546-1659520952\n",
        "# Model building for vegetable disease"
      ]
    },
    {
      "cell_type": "code",
      "execution_count": 1,
      "metadata": {
        "id": "hdq3jV9Klc8w"
      },
      "outputs": [
        {
          "name": "stderr",
          "output_type": "stream",
          "text": [
            "2022-11-19 18:58:28.031511: I tensorflow/core/platform/cpu_feature_guard.cc:193] This TensorFlow binary is optimized with oneAPI Deep Neural Network Library (oneDNN) to use the following CPU instructions in performance-critical operations:  AVX2 FMA\n",
            "To enable them in other operations, rebuild TensorFlow with the appropriate compiler flags.\n",
            "2022-11-19 18:58:50.897876: W tensorflow/compiler/xla/stream_executor/platform/default/dso_loader.cc:64] Could not load dynamic library 'libcudart.so.11.0'; dlerror: libcudart.so.11.0: cannot open shared object file: No such file or directory\n",
            "2022-11-19 18:58:50.897979: I tensorflow/compiler/xla/stream_executor/cuda/cudart_stub.cc:29] Ignore above cudart dlerror if you do not have a GPU set up on your machine.\n",
            "2022-11-19 18:59:45.778799: W tensorflow/compiler/xla/stream_executor/platform/default/dso_loader.cc:64] Could not load dynamic library 'libnvinfer.so.7'; dlerror: libnvinfer.so.7: cannot open shared object file: No such file or directory\n",
            "2022-11-19 18:59:45.779324: W tensorflow/compiler/xla/stream_executor/platform/default/dso_loader.cc:64] Could not load dynamic library 'libnvinfer_plugin.so.7'; dlerror: libnvinfer_plugin.so.7: cannot open shared object file: No such file or directory\n",
            "2022-11-19 18:59:45.779368: W tensorflow/compiler/tf2tensorrt/utils/py_utils.cc:38] TF-TRT Warning: Cannot dlopen some TensorRT libraries. If you would like to use Nvidia GPU with TensorRT, please make sure the missing libraries mentioned above are installed properly.\n"
          ]
        }
      ],
      "source": [
        "from keras.preprocessing.image import ImageDataGenerator\n",
        "train_datagen=ImageDataGenerator(rescale=1./255,shear_range=0.2,zoom_range=0.2,horizontal_flip=True)\n",
        "test_datagen=ImageDataGenerator(rescale=1)"
      ]
    },
    {
      "cell_type": "code",
      "execution_count": 2,
      "metadata": {
        "colab": {
          "base_uri": "https://localhost:8080/"
        },
        "id": "79L0kipdlp8g",
        "outputId": "f5596eb7-fba1-4ad0-e974-d5ddcf9740b8"
      },
      "outputs": [
        {
          "name": "stdout",
          "output_type": "stream",
          "text": [
            "Found 3416 images belonging to 9 classes.\n",
            "Found 11386 images belonging to 9 classes.\n"
          ]
        }
      ],
      "source": [
        "x_train=train_datagen.flow_from_directory(r'../Dataset/Dataset_Plant_Disease/Veg-dataset/Veg-dataset/test_set',target_size=(128,128),batch_size=2,class_mode='categorical')\n",
        "x_test=test_datagen.flow_from_directory(r'../Dataset/Dataset_Plant_Disease/Veg-dataset/Veg-dataset/train_set/',target_size=(128,128),batch_size=2,class_mode='categorical')"
      ]
    },
    {
      "cell_type": "code",
      "execution_count": 3,
      "metadata": {
        "id": "3bRM2jaemGen"
      },
      "outputs": [],
      "source": [
        "from keras.models import Sequential\n",
        "from keras.layers import Dense\n",
        "from keras.layers import Convolution2D\n",
        "from keras.layers import MaxPooling2D\n",
        "from keras.layers import Flatten"
      ]
    },
    {
      "cell_type": "code",
      "execution_count": 4,
      "metadata": {
        "id": "Rt2LLaAmqJym"
      },
      "outputs": [
        {
          "name": "stderr",
          "output_type": "stream",
          "text": [
            "2022-11-19 19:00:56.067921: W tensorflow/compiler/xla/stream_executor/platform/default/dso_loader.cc:64] Could not load dynamic library 'libcuda.so.1'; dlerror: libcuda.so.1: cannot open shared object file: No such file or directory\n",
            "2022-11-19 19:00:56.122099: W tensorflow/compiler/xla/stream_executor/cuda/cuda_driver.cc:265] failed call to cuInit: UNKNOWN ERROR (303)\n",
            "2022-11-19 19:00:56.122176: I tensorflow/compiler/xla/stream_executor/cuda/cuda_diagnostics.cc:156] kernel driver does not appear to be running on this host (linux): /proc/driver/nvidia/version does not exist\n",
            "2022-11-19 19:00:56.201690: I tensorflow/core/platform/cpu_feature_guard.cc:193] This TensorFlow binary is optimized with oneAPI Deep Neural Network Library (oneDNN) to use the following CPU instructions in performance-critical operations:  AVX2 FMA\n",
            "To enable them in other operations, rebuild TensorFlow with the appropriate compiler flags.\n"
          ]
        }
      ],
      "source": [
        "model=Sequential()"
      ]
    },
    {
      "cell_type": "code",
      "execution_count": 5,
      "metadata": {
        "id": "U-_oL0VWqj5-"
      },
      "outputs": [],
      "source": [
        "model.add(Convolution2D(32,(3,3),input_shape=(128,128,3),activation='relu'))"
      ]
    },
    {
      "cell_type": "code",
      "execution_count": 6,
      "metadata": {
        "id": "_6-ayjzOqqzA"
      },
      "outputs": [],
      "source": [
        "model.add(MaxPooling2D(pool_size=(2,2)))"
      ]
    },
    {
      "cell_type": "code",
      "execution_count": 7,
      "metadata": {
        "id": "xvsBvBRqq6Tt"
      },
      "outputs": [],
      "source": [
        "model.add(Flatten())"
      ]
    },
    {
      "cell_type": "code",
      "execution_count": 8,
      "metadata": {
        "id": "V8QwFkPPrAo2"
      },
      "outputs": [],
      "source": [
        "model.add(Dense(units=300,kernel_initializer='uniform',activation='relu'))"
      ]
    },
    {
      "cell_type": "code",
      "execution_count": 9,
      "metadata": {
        "id": "U59JTUjmrCI-"
      },
      "outputs": [],
      "source": [
        "model.add(Dense(units=150,kernel_initializer='random_uniform',activation='relu'))"
      ]
    },
    {
      "cell_type": "code",
      "execution_count": 10,
      "metadata": {
        "id": "Msnt3ToRTKPD"
      },
      "outputs": [],
      "source": [
        "model.add(Dense(units=75,kernel_initializer='uniform',activation='relu'))"
      ]
    },
    {
      "cell_type": "code",
      "execution_count": 11,
      "metadata": {
        "id": "KhbxKClJTpka"
      },
      "outputs": [],
      "source": [
        "model.add(Dense(units=9,kernel_initializer='uniform',activation='softmax'))"
      ]
    },
    {
      "cell_type": "code",
      "execution_count": 12,
      "metadata": {
        "id": "1zT-7Zm8Tsgi"
      },
      "outputs": [],
      "source": [
        "model.compile(loss='categorical_crossentropy',optimizer=\"adam\",metrics=[\"accuracy\"])"
      ]
    },
    {
      "cell_type": "code",
      "execution_count": 13,
      "metadata": {
        "colab": {
          "base_uri": "https://localhost:8080/"
        },
        "id": "SB48eOMTTvMC",
        "outputId": "f89769ec-b916-4e5b-d00d-835d05b0e06b"
      },
      "outputs": [
        {
          "name": "stdout",
          "output_type": "stream",
          "text": [
            "Epoch 1/20\n",
            "89/89 [==============================] - 79s 809ms/step - loss: 2.1849 - accuracy: 0.1854 - val_loss: 153.5798 - val_accuracy: 0.1667\n",
            "Epoch 2/20\n",
            "89/89 [==============================] - 77s 865ms/step - loss: 2.1664 - accuracy: 0.1292 - val_loss: 327.9855 - val_accuracy: 0.1481\n",
            "Epoch 3/20\n",
            "89/89 [==============================] - 72s 807ms/step - loss: 2.1309 - accuracy: 0.2079 - val_loss: 49.1468 - val_accuracy: 0.1111\n",
            "Epoch 4/20\n",
            "89/89 [==============================] - 72s 812ms/step - loss: 2.0657 - accuracy: 0.2303 - val_loss: 48.3441 - val_accuracy: 0.2407\n",
            "Epoch 5/20\n",
            "89/89 [==============================] - 65s 726ms/step - loss: 1.9808 - accuracy: 0.2191 - val_loss: 174.0936 - val_accuracy: 0.1852\n",
            "Epoch 6/20\n",
            "89/89 [==============================] - 73s 826ms/step - loss: 1.8000 - accuracy: 0.3483 - val_loss: 99.4364 - val_accuracy: 0.2407\n",
            "Epoch 7/20\n",
            "89/89 [==============================] - 63s 710ms/step - loss: 1.7480 - accuracy: 0.2978 - val_loss: 65.6797 - val_accuracy: 0.3519\n",
            "Epoch 8/20\n",
            "89/89 [==============================] - 72s 806ms/step - loss: 1.7773 - accuracy: 0.2865 - val_loss: 105.6422 - val_accuracy: 0.3148\n",
            "Epoch 9/20\n",
            "89/89 [==============================] - 60s 678ms/step - loss: 1.8542 - accuracy: 0.2697 - val_loss: 139.3531 - val_accuracy: 0.2222\n",
            "Epoch 10/20\n",
            "89/89 [==============================] - 64s 722ms/step - loss: 1.7167 - accuracy: 0.3258 - val_loss: 118.5956 - val_accuracy: 0.2593\n",
            "Epoch 11/20\n",
            "89/89 [==============================] - 61s 683ms/step - loss: 1.5666 - accuracy: 0.3876 - val_loss: 342.4842 - val_accuracy: 0.3148\n",
            "Epoch 12/20\n",
            "89/89 [==============================] - 82s 927ms/step - loss: 1.7505 - accuracy: 0.3427 - val_loss: 75.2879 - val_accuracy: 0.4259\n",
            "Epoch 13/20\n",
            "89/89 [==============================] - 57s 634ms/step - loss: 1.4911 - accuracy: 0.4494 - val_loss: 114.9769 - val_accuracy: 0.3704\n",
            "Epoch 14/20\n",
            "89/89 [==============================] - 61s 692ms/step - loss: 1.5523 - accuracy: 0.3652 - val_loss: 100.4053 - val_accuracy: 0.4815\n",
            "Epoch 15/20\n",
            "89/89 [==============================] - 106s 1s/step - loss: 1.5912 - accuracy: 0.4157 - val_loss: 197.0636 - val_accuracy: 0.4074\n",
            "Epoch 16/20\n",
            "89/89 [==============================] - 74s 835ms/step - loss: 1.5145 - accuracy: 0.4326 - val_loss: 73.6078 - val_accuracy: 0.4259\n",
            "Epoch 17/20\n",
            "89/89 [==============================] - 61s 685ms/step - loss: 1.5704 - accuracy: 0.4494 - val_loss: 154.1062 - val_accuracy: 0.2778\n",
            "Epoch 18/20\n",
            "89/89 [==============================] - 51s 575ms/step - loss: 1.4367 - accuracy: 0.4831 - val_loss: 173.6312 - val_accuracy: 0.3519\n",
            "Epoch 19/20\n",
            "89/89 [==============================] - 57s 646ms/step - loss: 1.4372 - accuracy: 0.4438 - val_loss: 60.3845 - val_accuracy: 0.4444\n",
            "Epoch 20/20\n",
            "89/89 [==============================] - 65s 731ms/step - loss: 1.4641 - accuracy: 0.4213 - val_loss: 185.3528 - val_accuracy: 0.4630\n"
          ]
        },
        {
          "data": {
            "text/plain": [
              "<keras.callbacks.History at 0x7fde2855cb50>"
            ]
          },
          "execution_count": 13,
          "metadata": {},
          "output_type": "execute_result"
        }
      ],
      "source": [
        "model.fit(x_train,steps_per_epoch=89,epochs=20,validation_data=x_test,validation_steps=27)"
      ]
    },
    {
      "cell_type": "markdown",
      "metadata": {
        "id": "elaX9HeUHmQS"
      },
      "source": [
        "## Save the Model"
      ]
    },
    {
      "cell_type": "code",
      "execution_count": 14,
      "metadata": {
        "id": "_Q163hlcXx-6"
      },
      "outputs": [],
      "source": [
        "model.save('vegetable.h5')"
      ]
    },
    {
      "cell_type": "code",
      "execution_count": 15,
      "metadata": {
        "colab": {
          "base_uri": "https://localhost:8080/"
        },
        "id": "3VsPg2UrZSy9",
        "outputId": "e3744bd2-2423-49b2-b42b-0656221d431c"
      },
      "outputs": [
        {
          "name": "stdout",
          "output_type": "stream",
          "text": [
            "Model: \"sequential\"\n",
            "_________________________________________________________________\n",
            " Layer (type)                Output Shape              Param #   \n",
            "=================================================================\n",
            " conv2d (Conv2D)             (None, 126, 126, 32)      896       \n",
            "                                                                 \n",
            " max_pooling2d (MaxPooling2D  (None, 63, 63, 32)       0         \n",
            " )                                                               \n",
            "                                                                 \n",
            " flatten (Flatten)           (None, 127008)            0         \n",
            "                                                                 \n",
            " dense (Dense)               (None, 300)               38102700  \n",
            "                                                                 \n",
            " dense_1 (Dense)             (None, 150)               45150     \n",
            "                                                                 \n",
            " dense_2 (Dense)             (None, 75)                11325     \n",
            "                                                                 \n",
            " dense_3 (Dense)             (None, 9)                 684       \n",
            "                                                                 \n",
            "=================================================================\n",
            "Total params: 38,160,755\n",
            "Trainable params: 38,160,755\n",
            "Non-trainable params: 0\n",
            "_________________________________________________________________\n"
          ]
        }
      ],
      "source": [
        "model.summary()"
      ]
    },
    {
      "cell_type": "code",
      "execution_count": null,
      "metadata": {},
      "outputs": [],
      "source": []
    }
  ],
  "metadata": {
    "colab": {
      "provenance": []
    },
    "kernelspec": {
      "display_name": "Python 3.8.10 64-bit",
      "language": "python",
      "name": "python3"
    },
    "language_info": {
      "codemirror_mode": {
        "name": "ipython",
        "version": 3
      },
      "file_extension": ".py",
      "mimetype": "text/x-python",
      "name": "python",
      "nbconvert_exporter": "python",
      "pygments_lexer": "ipython3",
      "version": "3.8.10"
    },
    "vscode": {
      "interpreter": {
        "hash": "916dbcbb3f70747c44a77c7bcd40155683ae19c65e1c03b4aa3499c5328201f1"
      }
    }
  },
  "nbformat": 4,
  "nbformat_minor": 0
}
